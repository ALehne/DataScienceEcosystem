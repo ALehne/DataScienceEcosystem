{
 "cells": [
  {
   "cell_type": "markdown",
   "id": "a9b983dc-731f-4b79-a534-41f3b92973f4",
   "metadata": {},
   "source": [
    "# Exercise 2: Create markdown cell with title of the notebook"
   ]
  },
  {
   "cell_type": "markdown",
   "id": "87935855-7ff2-491a-98a1-9144c1b7b3f4",
   "metadata": {},
   "source": [
    "<h1>Data Science Tools and Ecosystem</h1>"
   ]
  },
  {
   "cell_type": "markdown",
   "id": "0509f208-a2b7-4f0f-ab7d-d52b2b188ba0",
   "metadata": {},
   "source": [
    "<h1>Data Science Tools and Ecosystem</h1>"
   ]
  },
  {
   "cell_type": "markdown",
   "id": "94bd1ebc-2d88-4251-b8ba-2c52b678d406",
   "metadata": {
    "jp-MarkdownHeadingCollapsed": true
   },
   "source": [
    "# Exercise 3 - Create a markdown cell for an introduction"
   ]
  },
  {
   "cell_type": "markdown",
   "id": "830e8ed5-e22b-41e7-b1d3-0cfe850bd8a0",
   "metadata": {},
   "source": [
    "## In this notebook, Data Science Tools and Ecosystem are summarized."
   ]
  },
  {
   "cell_type": "code",
   "execution_count": null,
   "id": "9b2dc3ba-ee9c-4b55-a491-2685ab5d17cf",
   "metadata": {},
   "outputs": [],
   "source": [
    "## In this notebook, Data Science Tools and Ecosystem are summarized."
   ]
  },
  {
   "cell_type": "markdown",
   "id": "89c34bf3-f0f5-4ad0-8ed8-1323a002841c",
   "metadata": {},
   "source": [
    "### <b>Objectives:</b>\n",
    "* Python\n",
    "* R\n",
    "* SQL"
   ]
  },
  {
   "cell_type": "markdown",
   "id": "4e067607-8761-4f50-b8c8-6d3bab846978",
   "metadata": {},
   "source": [
    "### <b>Objectives:</b>\n",
    "* Python\n",
    "* R\n",
    "* SQL"
   ]
  },
  {
   "cell_type": "markdown",
   "id": "61eb1483-16f2-4197-98f5-bcfd27ca4797",
   "metadata": {
    "jp-MarkdownHeadingCollapsed": true
   },
   "source": [
    "# Exercise 4 - Create a markdown cell to list data science languages"
   ]
  },
  {
   "cell_type": "markdown",
   "id": "8bfa9ba4-53d9-43cb-9e1b-08267d87c425",
   "metadata": {},
   "source": [
    "Some of the commonly used libraries used by Data Scientists include:\n",
    "\n",
    "1. Python\n",
    "2. R\n",
    "3. SQL"
   ]
  },
  {
   "cell_type": "markdown",
   "id": "e24000f5-4cb4-4e99-8b16-981ad38bac43",
   "metadata": {},
   "source": [
    "Some of the commonly used libraries used by Data Scientists include:\n",
    "\n",
    "1. Python\n",
    "2. R\n",
    "3. SQL"
   ]
  },
  {
   "cell_type": "markdown",
   "id": "ab593c24-45dd-4aa9-8d9b-b456d50e0910",
   "metadata": {
    "jp-MarkdownHeadingCollapsed": true
   },
   "source": [
    "# Exercise 5 - Create a markdown cell to list data science libraries"
   ]
  },
  {
   "cell_type": "markdown",
   "id": "b6267860-0460-49b5-b7ff-c929c69980c2",
   "metadata": {},
   "source": [
    "## Some of the commonly used libraries used by Data Scientists include:\n",
    "\n",
    "* Pandas\n",
    "* NumPy\n",
    "* Matplotlib"
   ]
  },
  {
   "cell_type": "markdown",
   "id": "17553ffc-31bd-4952-8be1-06515e45d027",
   "metadata": {},
   "source": [
    "## Some of the commonly used libraries used by Data Scientists include:\n",
    "\n",
    "* Pandas\n",
    "* NumPy\n",
    "* Matplotlib"
   ]
  },
  {
   "cell_type": "markdown",
   "id": "d72ce084-9faf-4bc3-827d-b9fe37fdca97",
   "metadata": {
    "jp-MarkdownHeadingCollapsed": true
   },
   "source": [
    "# Exercise 6 - Create a markdown cell with a table of Data Science tools"
   ]
  },
  {
   "cell_type": "markdown",
   "id": "2552f4ef-8192-4b12-9afe-d9acfdecde62",
   "metadata": {},
   "source": [
    "| Data Science Tools |\n",
    "|:------------------:|\n",
    "| Jupyter Notebook |\n",
    "| RStudio |\n",
    "| VS Code |"
   ]
  },
  {
   "cell_type": "markdown",
   "id": "6b87407d-df91-4f23-b9dc-a1c50a16752e",
   "metadata": {},
   "source": [
    "| Data Science Tools |\n",
    "|:------------------:|\n",
    "| Jupyter Notebook |\n",
    "| RStudio |\n",
    "| VS Code |"
   ]
  },
  {
   "cell_type": "markdown",
   "id": "b9737ada-0a89-4b94-aec0-b8b2ee71d222",
   "metadata": {
    "jp-MarkdownHeadingCollapsed": true
   },
   "source": [
    "# Exercise 7 - Create a markdown cell introducing arithmetic expression examples"
   ]
  },
  {
   "cell_type": "markdown",
   "id": "a9bfd8db-aef6-4f04-999b-b63a434dfeab",
   "metadata": {},
   "source": [
    "<h3>Below are a few examples of evaluating arithmetic expressions in Python</h3>\n",
    "\n",
    "$ (20 + 5)*4 $\n",
    "\n",
    "$ (3+5)**5 $\n",
    "\n",
    "$ (3+6)/3 $"
   ]
  },
  {
   "cell_type": "markdown",
   "id": "7f34d455-20a2-488a-abb2-9285380849a9",
   "metadata": {},
   "source": [
    "<h3>Below are a few examples of evaluating arithmetic expressions in Python</h3>\n",
    "\n",
    "$ (20 + 5)*4 $\n",
    "\n",
    "$ (3+5)**5 $\n",
    "\n",
    "$ (3+6)/3 $"
   ]
  },
  {
   "cell_type": "markdown",
   "id": "693e0686-e977-4b13-a6a3-617855256ee3",
   "metadata": {
    "jp-MarkdownHeadingCollapsed": true
   },
   "source": [
    "# Exercise 8 - Create a code cell to multiply and add numbers"
   ]
  },
  {
   "cell_type": "code",
   "execution_count": 11,
   "id": "ab473c04-9f80-4a8d-8de3-09b51504eb92",
   "metadata": {},
   "outputs": [
    {
     "data": {
      "text/plain": [
       "17"
      ]
     },
     "execution_count": 11,
     "metadata": {},
     "output_type": "execute_result"
    }
   ],
   "source": [
    "# This a simple arithmetic expression to mutiply then add integers\n",
    "(3*4)+5"
   ]
  },
  {
   "cell_type": "markdown",
   "id": "d95a3412-f4d8-4058-971d-6588aa1f0fa1",
   "metadata": {
    "jp-MarkdownHeadingCollapsed": true
   },
   "source": [
    "# Exercise 9 - Create a code cell to convert minutes to hours"
   ]
  },
  {
   "cell_type": "code",
   "execution_count": 20,
   "id": "b90f2825-5f3e-4e58-bb7c-6a44a3767edd",
   "metadata": {},
   "outputs": [
    {
     "name": "stdout",
     "output_type": "stream",
     "text": [
      "3.3333333333333335\n",
      "3.3333333333333335 hours\n",
      "3.33 hours\n"
     ]
    }
   ],
   "source": [
    "# This will convert 200 minutes to hours by diving by 60\n",
    "minutes = 200\n",
    "hours = minutes / 60\n",
    "print(hours)\n",
    "\n",
    "# or\n",
    "\n",
    "print(200/60,'hours')\n",
    "\n",
    "# simple\n",
    "\n",
    "200/60\n",
    "\n",
    "# with round numbers\n",
    "print(round(200/60, 2), 'hours')"
   ]
  },
  {
   "cell_type": "markdown",
   "id": "da5e3e1a-ebc7-46b0-a02e-7937e020820e",
   "metadata": {},
   "source": [
    "# Exercise 10 - Insert a markdown cell to list Objectives"
   ]
  },
  {
   "cell_type": "markdown",
   "id": "a188ec1b-cd11-4748-a1d6-9ef8fda11fca",
   "metadata": {
    "jp-MarkdownHeadingCollapsed": true
   },
   "source": [
    "### List popular languages for Data Science\n",
    "\n",
    "* Python\n",
    "* R\n",
    "* Sql"
   ]
  },
  {
   "cell_type": "markdown",
   "id": "1edcd7c1-1ddc-46ef-9e0e-26eed1b0a69a",
   "metadata": {},
   "source": [
    "# Exercise 11 - Create a markdown cell to indicate the Author's name"
   ]
  },
  {
   "cell_type": "markdown",
   "id": "c4f00255-526b-4b63-90e9-cde292ff8695",
   "metadata": {},
   "source": [
    "<h2>Author</h2>\n",
    "Alexander Lehne"
   ]
  },
  {
   "cell_type": "markdown",
   "id": "061adb8b-2dd8-4786-b1ac-2a96da234453",
   "metadata": {},
   "source": [
    "<h2>Author</h2>\n",
    "Alexander Lehne"
   ]
  }
 ],
 "metadata": {
  "kernelspec": {
   "display_name": "Python 3 (ipykernel)",
   "language": "python",
   "name": "python3"
  },
  "language_info": {
   "codemirror_mode": {
    "name": "ipython",
    "version": 3
   },
   "file_extension": ".py",
   "mimetype": "text/x-python",
   "name": "python",
   "nbconvert_exporter": "python",
   "pygments_lexer": "ipython3",
   "version": "3.12.5"
  }
 },
 "nbformat": 4,
 "nbformat_minor": 5
}
